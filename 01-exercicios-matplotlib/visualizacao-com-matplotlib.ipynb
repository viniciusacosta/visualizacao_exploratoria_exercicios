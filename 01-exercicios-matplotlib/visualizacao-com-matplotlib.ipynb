{
  "nbformat": 4,
  "nbformat_minor": 0,
  "metadata": {
    "kernelspec": {
      "display_name": "Python 3",
      "language": "python",
      "name": "python3"
    },
    "language_info": {
      "codemirror_mode": {
        "name": "ipython",
        "version": 3
      },
      "file_extension": ".py",
      "mimetype": "text/x-python",
      "name": "python",
      "nbconvert_exporter": "python",
      "pygments_lexer": "ipython3",
      "version": "3.7.6"
    },
    "colab": {
      "name": "visualizacao-com-matplotlib.ipynb",
      "provenance": [],
      "collapsed_sections": []
    }
  },
  "cells": [
    {
      "cell_type": "markdown",
      "metadata": {
        "id": "RzfiN0Y8Y_1I"
      },
      "source": [
        "<img src=\"https://i.imgur.com/YX6UATs.png\"  width=\"160\">"
      ]
    },
    {
      "cell_type": "markdown",
      "metadata": {
        "id": "IsbDjKiKY_1X"
      },
      "source": [
        "# Projeto - Visualização com Matplotlib\n",
        "\n",
        "## Considerações iniciais\n",
        "\n",
        "O objetivo deste notebook é fazer com que o leitor assimile os recursos de uma das bibliotecas mais importantes do Python: o Matplotlib. Para isso, exemplos e conceitos desta biblioteca serão apresentados ao longo da jornada. Concomitantemente, serão solicitadas algumas tarefas práticas ao leitor.\n",
        "\n",
        "### Por que o Matplotlib?\n",
        "Apesar do Python possuir um ecossitema de feramentas de visualização muito rico para o cientista de dados, o Matplotlib, sem dúvidas, também detém seu lugar de destaque.\n",
        "\n",
        "> \"Matplolib tenta facilitar as coisas fáceis e tornar as coisas difíceis possíveis.\"\n",
        ">\n",
        "> [Site do Matplotlib](https://matplotlib.org/)\n",
        "\n",
        "Além do Matplotlib, utilizaremos, também, um conjunto de dados e outras bibliotecas de apoio, como o [Pandas](https://pandas.pydata.org/), por exemplo. Afinal, o Matplotlib é ótimo, mas não brilha sozinho.\n",
        "\n",
        "### Prepare seu ambiente\n",
        "\n",
        "Se necessário, faça a instalação da biblioteca no seu sistema usando o gerenciador de pacotes da linguagem, no prompt/terminal/cmd digite:\n",
        "```\n",
        "$ pip install matplotlib\n",
        "```\n",
        "\n",
        "Ou caso esteja usando o Anaconda:\n",
        "```\n",
        "$ conda install matplotlib\n",
        "```\n",
        "\n",
        "### Conjunto de dados\n",
        "O conjunto de dados utilizado são os registros de milhares de lutas no Ultimate Fight Championship (UFC). O arquivo [ufc.csv](ufc.csv) possui mais de 145 colunas, o que é demasiadamente grande para as nossas intenções. Deste modo, iremos focar apenas uma parte dos dados.\n",
        "\n",
        "#### Descrição do dados\n",
        "\n",
        "De todas as colunas do arquivo [ufc.csv](ufc.csv), iremos praticar com:\n",
        "- R_fighter: Nome do lutador do canto vermelho.\n",
        "- B_fighter: Nome do lutador do canto azul.\n",
        "- Referee: Nome do árbitro da luta.\n",
        "- date: Data do evento\n",
        "- location: Local do evento.\n",
        "- Winner: Cor do vencedor - Red ou Blue.\n",
        "- title_bout: Se é uma disputa pelo título.\n",
        "- weight_class: Classe de peso da luta."
      ]
    },
    {
      "cell_type": "markdown",
      "metadata": {
        "id": "9fWFPz8NY_1Z"
      },
      "source": [
        "## Procedimentos\n",
        "\n",
        "Vamos abordar alguns padrões básicos de uso e práticas recomendadas para ajudar você a utilizar o Matplotlib. Por ter um código bastante extenso, o Matplotlib pode ser um desafio ultrajante (e é) para os iniciantes, mas não se intimide. A intenção deste guia é, justamente, focar no essencial para plotagem dos primeiros gráficos sem necessitar de muita informação.\n",
        "\n",
        "### Importando as bibliotecas\n",
        "- **%matplotlib inline**: é uma *Magic Word* do Jupyter Notebook que informa à plataforma que informa ao Jupyter para que os gráficos sejam plotados diratemente no notebook.\n",
        "- **numpy**: Uma biblioteca de apoio para gerar alguns dados para plotagem.\n",
        "- **pandas**: A biblioteca pandas fornece estruturas e ferramentas de análise de dados. Iremos utilizá-la para carregar e manipular o conjunto de dados em uma estrutura chamada *dataframe*. Por convenção, recomenda-se o pandas seja utilizado com o nome *pd*.\n",
        "- **matplotlib.pyplot**: A estrela de hoje. Por convenção, recomenda-se que matplotlib.pyplot seja acessado via pelo nome *plt*."
      ]
    },
    {
      "cell_type": "code",
      "metadata": {
        "id": "YQg6Eu4cY_1a"
      },
      "source": [
        "%matplotlib inline\n",
        "import numpy as np\n",
        "import pandas as pd\n",
        "import matplotlib.pyplot as plt"
      ],
      "execution_count": null,
      "outputs": []
    },
    {
      "cell_type": "markdown",
      "metadata": {
        "id": "mVZiyYJIY_1b"
      },
      "source": [
        "### TAREFA 01\n",
        "1. Importe o arquivo [ufc.csv](ufc.csv) em um dataframe.\n",
        "2. Visualize as primeiras 5 linhas do dataframe"
      ]
    },
    {
      "cell_type": "code",
      "metadata": {
        "id": "J4swv81-Y_1b",
        "outputId": "0e4cd812-6b7e-498f-b61b-f1b1d65bf108",
        "colab": {
          "base_uri": "https://localhost:8080/",
          "height": 473
        }
      },
      "source": [
        "url = 'https://raw.githubusercontent.com/viniciusacosta/visualizacao_exploratoria_exercicios/master/01-exercicios-matplotlib/ufc.csv'\n",
        "df = pd.read_csv(url)\n",
        "\n",
        "df.head()"
      ],
      "execution_count": null,
      "outputs": [
        {
          "output_type": "execute_result",
          "data": {
            "text/plain": [
              "              R_fighter       B_fighter          Referee        date  \\\n",
              "0          Henry Cejudo   Marlon Moraes     Marc Goddard  2019-06-08   \n",
              "1  Valentina Shevchenko     Jessica Eye  Robert Madrigal  2019-06-08   \n",
              "2         Tony Ferguson  Donald Cerrone  Dan Miragliotta  2019-06-08   \n",
              "3         Jimmie Rivera        Petr Yan  Kevin MacDonald  2019-06-08   \n",
              "4           Tai Tuivasa   Blagoy Ivanov  Dan Miragliotta  2019-06-08   \n",
              "\n",
              "                 location Winner  title_bout       weight_class  no_of_rounds  \\\n",
              "0  Chicago, Illinois, USA    Red        True       Bantamweight             5   \n",
              "1  Chicago, Illinois, USA    Red        True  Women's Flyweight             5   \n",
              "2  Chicago, Illinois, USA    Red       False        Lightweight             3   \n",
              "3  Chicago, Illinois, USA   Blue       False       Bantamweight             3   \n",
              "4  Chicago, Illinois, USA   Blue       False        Heavyweight             3   \n",
              "\n",
              "   B_current_lose_streak  ...  R_win_by_KO/TKO  R_win_by_Submission  \\\n",
              "0                    0.0  ...              2.0                  0.0   \n",
              "1                    0.0  ...              0.0                  2.0   \n",
              "2                    0.0  ...              3.0                  6.0   \n",
              "3                    0.0  ...              1.0                  0.0   \n",
              "4                    0.0  ...              2.0                  0.0   \n",
              "\n",
              "   R_win_by_TKO_Doctor_Stoppage  R_wins  R_Stance  R_Height_cms  R_Reach_cms  \\\n",
              "0                           0.0     8.0  Orthodox        162.56       162.56   \n",
              "1                           0.0     5.0  Southpaw        165.10       167.64   \n",
              "2                           1.0    14.0  Orthodox        180.34       193.04   \n",
              "3                           0.0     6.0  Orthodox        162.56       172.72   \n",
              "4                           0.0     3.0  Southpaw        187.96       190.50   \n",
              "\n",
              "   R_Weight_lbs  B_age  R_age  \n",
              "0         135.0   31.0   32.0  \n",
              "1         125.0   32.0   31.0  \n",
              "2         155.0   36.0   35.0  \n",
              "3         135.0   26.0   29.0  \n",
              "4         264.0   32.0   26.0  \n",
              "\n",
              "[5 rows x 145 columns]"
            ],
            "text/html": [
              "\n",
              "  <div id=\"df-698d0127-c660-41a3-a5bf-0910f5c2b353\">\n",
              "    <div class=\"colab-df-container\">\n",
              "      <div>\n",
              "<style scoped>\n",
              "    .dataframe tbody tr th:only-of-type {\n",
              "        vertical-align: middle;\n",
              "    }\n",
              "\n",
              "    .dataframe tbody tr th {\n",
              "        vertical-align: top;\n",
              "    }\n",
              "\n",
              "    .dataframe thead th {\n",
              "        text-align: right;\n",
              "    }\n",
              "</style>\n",
              "<table border=\"1\" class=\"dataframe\">\n",
              "  <thead>\n",
              "    <tr style=\"text-align: right;\">\n",
              "      <th></th>\n",
              "      <th>R_fighter</th>\n",
              "      <th>B_fighter</th>\n",
              "      <th>Referee</th>\n",
              "      <th>date</th>\n",
              "      <th>location</th>\n",
              "      <th>Winner</th>\n",
              "      <th>title_bout</th>\n",
              "      <th>weight_class</th>\n",
              "      <th>no_of_rounds</th>\n",
              "      <th>B_current_lose_streak</th>\n",
              "      <th>...</th>\n",
              "      <th>R_win_by_KO/TKO</th>\n",
              "      <th>R_win_by_Submission</th>\n",
              "      <th>R_win_by_TKO_Doctor_Stoppage</th>\n",
              "      <th>R_wins</th>\n",
              "      <th>R_Stance</th>\n",
              "      <th>R_Height_cms</th>\n",
              "      <th>R_Reach_cms</th>\n",
              "      <th>R_Weight_lbs</th>\n",
              "      <th>B_age</th>\n",
              "      <th>R_age</th>\n",
              "    </tr>\n",
              "  </thead>\n",
              "  <tbody>\n",
              "    <tr>\n",
              "      <th>0</th>\n",
              "      <td>Henry Cejudo</td>\n",
              "      <td>Marlon Moraes</td>\n",
              "      <td>Marc Goddard</td>\n",
              "      <td>2019-06-08</td>\n",
              "      <td>Chicago, Illinois, USA</td>\n",
              "      <td>Red</td>\n",
              "      <td>True</td>\n",
              "      <td>Bantamweight</td>\n",
              "      <td>5</td>\n",
              "      <td>0.0</td>\n",
              "      <td>...</td>\n",
              "      <td>2.0</td>\n",
              "      <td>0.0</td>\n",
              "      <td>0.0</td>\n",
              "      <td>8.0</td>\n",
              "      <td>Orthodox</td>\n",
              "      <td>162.56</td>\n",
              "      <td>162.56</td>\n",
              "      <td>135.0</td>\n",
              "      <td>31.0</td>\n",
              "      <td>32.0</td>\n",
              "    </tr>\n",
              "    <tr>\n",
              "      <th>1</th>\n",
              "      <td>Valentina Shevchenko</td>\n",
              "      <td>Jessica Eye</td>\n",
              "      <td>Robert Madrigal</td>\n",
              "      <td>2019-06-08</td>\n",
              "      <td>Chicago, Illinois, USA</td>\n",
              "      <td>Red</td>\n",
              "      <td>True</td>\n",
              "      <td>Women's Flyweight</td>\n",
              "      <td>5</td>\n",
              "      <td>0.0</td>\n",
              "      <td>...</td>\n",
              "      <td>0.0</td>\n",
              "      <td>2.0</td>\n",
              "      <td>0.0</td>\n",
              "      <td>5.0</td>\n",
              "      <td>Southpaw</td>\n",
              "      <td>165.10</td>\n",
              "      <td>167.64</td>\n",
              "      <td>125.0</td>\n",
              "      <td>32.0</td>\n",
              "      <td>31.0</td>\n",
              "    </tr>\n",
              "    <tr>\n",
              "      <th>2</th>\n",
              "      <td>Tony Ferguson</td>\n",
              "      <td>Donald Cerrone</td>\n",
              "      <td>Dan Miragliotta</td>\n",
              "      <td>2019-06-08</td>\n",
              "      <td>Chicago, Illinois, USA</td>\n",
              "      <td>Red</td>\n",
              "      <td>False</td>\n",
              "      <td>Lightweight</td>\n",
              "      <td>3</td>\n",
              "      <td>0.0</td>\n",
              "      <td>...</td>\n",
              "      <td>3.0</td>\n",
              "      <td>6.0</td>\n",
              "      <td>1.0</td>\n",
              "      <td>14.0</td>\n",
              "      <td>Orthodox</td>\n",
              "      <td>180.34</td>\n",
              "      <td>193.04</td>\n",
              "      <td>155.0</td>\n",
              "      <td>36.0</td>\n",
              "      <td>35.0</td>\n",
              "    </tr>\n",
              "    <tr>\n",
              "      <th>3</th>\n",
              "      <td>Jimmie Rivera</td>\n",
              "      <td>Petr Yan</td>\n",
              "      <td>Kevin MacDonald</td>\n",
              "      <td>2019-06-08</td>\n",
              "      <td>Chicago, Illinois, USA</td>\n",
              "      <td>Blue</td>\n",
              "      <td>False</td>\n",
              "      <td>Bantamweight</td>\n",
              "      <td>3</td>\n",
              "      <td>0.0</td>\n",
              "      <td>...</td>\n",
              "      <td>1.0</td>\n",
              "      <td>0.0</td>\n",
              "      <td>0.0</td>\n",
              "      <td>6.0</td>\n",
              "      <td>Orthodox</td>\n",
              "      <td>162.56</td>\n",
              "      <td>172.72</td>\n",
              "      <td>135.0</td>\n",
              "      <td>26.0</td>\n",
              "      <td>29.0</td>\n",
              "    </tr>\n",
              "    <tr>\n",
              "      <th>4</th>\n",
              "      <td>Tai Tuivasa</td>\n",
              "      <td>Blagoy Ivanov</td>\n",
              "      <td>Dan Miragliotta</td>\n",
              "      <td>2019-06-08</td>\n",
              "      <td>Chicago, Illinois, USA</td>\n",
              "      <td>Blue</td>\n",
              "      <td>False</td>\n",
              "      <td>Heavyweight</td>\n",
              "      <td>3</td>\n",
              "      <td>0.0</td>\n",
              "      <td>...</td>\n",
              "      <td>2.0</td>\n",
              "      <td>0.0</td>\n",
              "      <td>0.0</td>\n",
              "      <td>3.0</td>\n",
              "      <td>Southpaw</td>\n",
              "      <td>187.96</td>\n",
              "      <td>190.50</td>\n",
              "      <td>264.0</td>\n",
              "      <td>32.0</td>\n",
              "      <td>26.0</td>\n",
              "    </tr>\n",
              "  </tbody>\n",
              "</table>\n",
              "<p>5 rows × 145 columns</p>\n",
              "</div>\n",
              "      <button class=\"colab-df-convert\" onclick=\"convertToInteractive('df-698d0127-c660-41a3-a5bf-0910f5c2b353')\"\n",
              "              title=\"Convert this dataframe to an interactive table.\"\n",
              "              style=\"display:none;\">\n",
              "        \n",
              "  <svg xmlns=\"http://www.w3.org/2000/svg\" height=\"24px\"viewBox=\"0 0 24 24\"\n",
              "       width=\"24px\">\n",
              "    <path d=\"M0 0h24v24H0V0z\" fill=\"none\"/>\n",
              "    <path d=\"M18.56 5.44l.94 2.06.94-2.06 2.06-.94-2.06-.94-.94-2.06-.94 2.06-2.06.94zm-11 1L8.5 8.5l.94-2.06 2.06-.94-2.06-.94L8.5 2.5l-.94 2.06-2.06.94zm10 10l.94 2.06.94-2.06 2.06-.94-2.06-.94-.94-2.06-.94 2.06-2.06.94z\"/><path d=\"M17.41 7.96l-1.37-1.37c-.4-.4-.92-.59-1.43-.59-.52 0-1.04.2-1.43.59L10.3 9.45l-7.72 7.72c-.78.78-.78 2.05 0 2.83L4 21.41c.39.39.9.59 1.41.59.51 0 1.02-.2 1.41-.59l7.78-7.78 2.81-2.81c.8-.78.8-2.07 0-2.86zM5.41 20L4 18.59l7.72-7.72 1.47 1.35L5.41 20z\"/>\n",
              "  </svg>\n",
              "      </button>\n",
              "      \n",
              "  <style>\n",
              "    .colab-df-container {\n",
              "      display:flex;\n",
              "      flex-wrap:wrap;\n",
              "      gap: 12px;\n",
              "    }\n",
              "\n",
              "    .colab-df-convert {\n",
              "      background-color: #E8F0FE;\n",
              "      border: none;\n",
              "      border-radius: 50%;\n",
              "      cursor: pointer;\n",
              "      display: none;\n",
              "      fill: #1967D2;\n",
              "      height: 32px;\n",
              "      padding: 0 0 0 0;\n",
              "      width: 32px;\n",
              "    }\n",
              "\n",
              "    .colab-df-convert:hover {\n",
              "      background-color: #E2EBFA;\n",
              "      box-shadow: 0px 1px 2px rgba(60, 64, 67, 0.3), 0px 1px 3px 1px rgba(60, 64, 67, 0.15);\n",
              "      fill: #174EA6;\n",
              "    }\n",
              "\n",
              "    [theme=dark] .colab-df-convert {\n",
              "      background-color: #3B4455;\n",
              "      fill: #D2E3FC;\n",
              "    }\n",
              "\n",
              "    [theme=dark] .colab-df-convert:hover {\n",
              "      background-color: #434B5C;\n",
              "      box-shadow: 0px 1px 3px 1px rgba(0, 0, 0, 0.15);\n",
              "      filter: drop-shadow(0px 1px 2px rgba(0, 0, 0, 0.3));\n",
              "      fill: #FFFFFF;\n",
              "    }\n",
              "  </style>\n",
              "\n",
              "      <script>\n",
              "        const buttonEl =\n",
              "          document.querySelector('#df-698d0127-c660-41a3-a5bf-0910f5c2b353 button.colab-df-convert');\n",
              "        buttonEl.style.display =\n",
              "          google.colab.kernel.accessAllowed ? 'block' : 'none';\n",
              "\n",
              "        async function convertToInteractive(key) {\n",
              "          const element = document.querySelector('#df-698d0127-c660-41a3-a5bf-0910f5c2b353');\n",
              "          const dataTable =\n",
              "            await google.colab.kernel.invokeFunction('convertToInteractive',\n",
              "                                                     [key], {});\n",
              "          if (!dataTable) return;\n",
              "\n",
              "          const docLinkHtml = 'Like what you see? Visit the ' +\n",
              "            '<a target=\"_blank\" href=https://colab.research.google.com/notebooks/data_table.ipynb>data table notebook</a>'\n",
              "            + ' to learn more about interactive tables.';\n",
              "          element.innerHTML = '';\n",
              "          dataTable['output_type'] = 'display_data';\n",
              "          await google.colab.output.renderOutput(dataTable, element);\n",
              "          const docLink = document.createElement('div');\n",
              "          docLink.innerHTML = docLinkHtml;\n",
              "          element.appendChild(docLink);\n",
              "        }\n",
              "      </script>\n",
              "    </div>\n",
              "  </div>\n",
              "  "
            ]
          },
          "metadata": {},
          "execution_count": 5
        }
      ]
    },
    {
      "cell_type": "markdown",
      "metadata": {
        "id": "8GVo9Pe6Y_1e"
      },
      "source": [
        "### Diferenças entre os métodos plt.show() e plt.plot()\n",
        "Caso você esteja executando matplotlib a partir do script Python, use o *plt.show()* em qualquer plotagem. Porém, no nosso caso, rodando a partir do notebook, nosso trabalho poderá ser realizado apenas com *plt.plot()*. Não se esqueça que para isso, ativamos a opção de apresentar os gráficos diretamente no notebook através do comando *%matplotlib inline*."
      ]
    },
    {
      "cell_type": "markdown",
      "metadata": {
        "id": "gGM1GgvkY_1e"
      },
      "source": [
        "### A anatomia de um gráfico\n",
        "\n",
        "O Matplotlib é baseado no conceito de que todos os elementos que constituem um gráfico estão organizados dentro de uma hierarquia. No topo desta hirarquia está o ambiente do Matplotlib, fornecido pelo módulo que importamos anteriormente - __matplotlib.pyplot__. A partir dele, o usuário acessa funções que adicionam elementos nos gráficos (linhas, imagens, legendas, etc).\n",
        "\n",
        "Descendo na hirarquia, o usuário poderá utilizar objetos que possuem funcionalidades. Por exemplo, uma figura é criada a partir de um objeto *Figure* ou um subgráfico em um gráfico é manipulado por um objeto *Axe*. Aliás, no fim das contas, para deixar o código mais \"acessível\", o usuário acaba sempre trabalhando com os objetos do Matplotlib.\n",
        "\n",
        "Para esclarecer um pouco mais, observe a imagem abaixo. Nela, estão contidas os elementos que compoem um gráfico:\n",
        "<center>\n",
        "<img src='https://matplotlib.org/_images/anatomy.png' alt='Anatomia de um gráfico' width='600' height='600'/>\n",
        "</center>\n",
        "\n",
        "Não se preocupe em entender cada um dos elementos, o importante é ter a noção de que estes elementos possuem uma hierarquia na organização e que você deve obedecê-la durante a montagem de gráficos mais complexos.\n",
        "\n",
        "#### Figure\n",
        "O *Figure* é o elemento de mais alto nível do gráfico. Uma figura pode ter vários eixos (*Axes*), mas um eixo pode pertencer a somente uma figura. Além disso, o objeto *Figure* aceita parâmetros que formatam nosso gráfico.\n",
        "\n",
        "### TAREFA 02\n",
        "1. Instancie uma figura.\n",
        "2. Use o *plt.plot()* para visualizar no notebook.\n",
        "\n",
        "- **DICA**: O objeto *figure* está dentro do matplotlib.pyplot.\n",
        "- **DICA**: Caso você não tenha usado o comando *%matplotlib inline*, a figura não aparecerá."
      ]
    },
    {
      "cell_type": "code",
      "metadata": {
        "id": "4P5Djk_HY_1f",
        "outputId": "a33c6f8e-0a81-40e2-f6e9-7c5a8e4ae6d3",
        "colab": {
          "base_uri": "https://localhost:8080/",
          "height": 282
        }
      },
      "source": [
        "plt.plot()"
      ],
      "execution_count": null,
      "outputs": [
        {
          "output_type": "execute_result",
          "data": {
            "text/plain": [
              "[]"
            ]
          },
          "metadata": {},
          "execution_count": 4
        },
        {
          "output_type": "display_data",
          "data": {
            "text/plain": [
              "<Figure size 432x288 with 1 Axes>"
            ],
            "image/png": "[encoded data removed]"
          },
          "metadata": {
            "needs_background": "light"
          }
        }
      ]
    },
    {
      "cell_type": "markdown",
      "metadata": {
        "id": "vmWXyhT7Y_1h"
      },
      "source": [
        "### TAREFA 03\n",
        "1. Instancie uma figura alterando seu tamanho.\n",
        "2. Use o *plt.plot()* para visualizar no notebook.\n",
        "\n",
        "- **DICA**: Use o parâmetro *figsize*."
      ]
    },
    {
      "cell_type": "code",
      "metadata": {
        "id": "Y-v7Nk_iY_1h",
        "outputId": "e72c881a-4888-4091-8150-7b7844a1226e",
        "colab": {
          "base_uri": "https://localhost:8080/",
          "height": 609
        }
      },
      "source": [
        "figure = plt.figure(figsize=(10,10))\n",
        "plt.plot()"
      ],
      "execution_count": null,
      "outputs": [
        {
          "output_type": "execute_result",
          "data": {
            "text/plain": [
              "[]"
            ]
          },
          "metadata": {},
          "execution_count": 6
        },
        {
          "output_type": "display_data",
          "data": {
            "text/plain": [
              "<Figure size 720x720 with 1 Axes>"
            ],
            "image/png": "[encoded data removed]"
          },
          "metadata": {
            "needs_background": "light"
          }
        }
      ]
    },
    {
      "cell_type": "markdown",
      "metadata": {
        "id": "ZzJZ9YcfY_1j"
      },
      "source": [
        "#### Axe\n",
        "Pense em um *Axe* como uma região da figura onde você plotará seus gráficos. Uma *Figure* pode ter vários *Axes*, mas um *Axe* pertence a uma só *Figure*. Para adicionar *Axes* à uma *Figure*, podemos utilizar os métodos *fig.add_axes()* ou *fig.add_subplot()*. Para esclarecer, *Axes* e *subplots* são a mesma coisa.\n",
        "\n",
        "O método *fig.add_subplots()* usa 3 números inteiros como parâmetro. Esses três números definem o número de linhas e colunas e a posição do subplot na figura. Por exemplo, usando *fig.add_subplots(ijk)* adiciona um eixo na k-enésima posição de uma grade que possui i linhas e j colunas.\n",
        "\n",
        "O método *fig.add_subplot()* é a maneira mais fácil de configurar seu layout, enquanto *fig.add_axes()* lhe dará mais controle sobre a posição dos seus eixos.\n",
        "\n",
        "### TAREFA 04\n",
        "1. Instancie uma figura\n",
        "2. Adicione dois subplots lado a lado.\n",
        "3. Não se esqueça do plot.plot()\n",
        "\n",
        "**DICA**: Utilize o método *fig.add_axes()*."
      ]
    },
    {
      "cell_type": "code",
      "metadata": {
        "id": "oy8BN1tBY_1j",
        "outputId": "f968792c-4636-45be-d819-cd41ad7ca537",
        "colab": {
          "base_uri": "https://localhost:8080/",
          "height": 269
        }
      },
      "source": [
        "figure = plt.figure()\n",
        "ax1=figure.add_subplot(1,2,1)\n",
        "ax2=figure.add_subplot(1,2,2)\n",
        "plt.show()"
      ],
      "execution_count": null,
      "outputs": [
        {
          "output_type": "display_data",
          "data": {
            "text/plain": [
              "<Figure size 432x288 with 2 Axes>"
            ],
            "image/png": "[encoded data removed]"
          },
          "metadata": {
            "needs_background": "light"
          }
        }
      ]
    },
    {
      "cell_type": "markdown",
      "metadata": {
        "id": "CoLAwF2GY_1m"
      },
      "source": [
        "Cada subplot contém dois eixos, representados pelos objetos *Axis* (observe a diferença entre *Axes* e *Axis*), que cuidam dos limites de cada subplot. As faixas de valores dos eixos podem ser controlados através dos métodos *axes.set_xlim()* e *axes.set_ylim()*.\n",
        "\n",
        "### TAREFA 05\n",
        "1. Altere os limites dos subplotes da figura anterior\n",
        "2. Para o subplot da esquerda, configure o eixo x de 0 a 10.\n",
        "3. No subplot da direita, defina y entre -1 e 1.\n",
        "4. Adicione os títulos \"Esquerda\" e \"Direita\" nos subplots."
      ]
    },
    {
      "cell_type": "code",
      "metadata": {
        "id": "rdkI4gVyY_1n",
        "outputId": "e0d70658-337b-4e8b-8133-9109df387018",
        "colab": {
          "base_uri": "https://localhost:8080/",
          "height": 297
        }
      },
      "source": [
        "figure = plt.figure()\n",
        "\n",
        "ax1=figure.add_subplot(1,2,1)\n",
        "ax2=figure.add_subplot(1,2,2)\n",
        "\n",
        "ax1.set_xlim(0,10)\n",
        "ax2.set_ylim(-1,1)\n",
        "ax1.set_title(\"Esquerda\")\n",
        "ax2.set_title(\"Direita\")\n",
        "\n",
        "figure.tight_layout()\n",
        "plt.show()"
      ],
      "execution_count": null,
      "outputs": [
        {
          "output_type": "display_data",
          "data": {
            "text/plain": [
              "<Figure size 432x288 with 2 Axes>"
            ],
            "image/png": "[encoded data removed]"
          },
          "metadata": {
            "needs_background": "light"
          }
        }
      ]
    },
    {
      "cell_type": "markdown",
      "metadata": {
        "id": "uady_JL2Y_1o"
      },
      "source": [
        "Nossos subplots estão sobreajustados e o eixo y do subplot da direita está ruim de visualizar.\n",
        "\n",
        "### TAREFA 06\n",
        "1. Com base na figura anterior, ajuste o gráfico.\n",
        "2. Ajuste o tamanho da figura.\n",
        "\n",
        "**DICA**: Use o método *figure.tight_layout()*."
      ]
    },
    {
      "cell_type": "code",
      "metadata": {
        "id": "qiZT6Ka9Y_1p",
        "outputId": "888a8d6d-090d-4272-878a-83b74fff3d6d",
        "colab": {
          "base_uri": "https://localhost:8080/",
          "height": 297
        }
      },
      "source": [
        "figure = plt.figure(figsize=(9,4))\n",
        "\n",
        "ax1=figure.add_subplot(1,2,1)\n",
        "ax2=figure.add_subplot(1,2,2)\n",
        "\n",
        "ax1.set_xlim(0,10)\n",
        "ax2.set_ylim(-1,1)\n",
        "ax1.set_title(\"Esquerda\")\n",
        "ax2.set_title(\"Direita\")\n",
        "\n",
        "figure.tight_layout()\n",
        "plt.show()"
      ],
      "execution_count": null,
      "outputs": [
        {
          "output_type": "display_data",
          "data": {
            "text/plain": [
              "<Figure size 648x288 with 2 Axes>"
            ],
            "image/png": "[encoded data removed]"
          },
          "metadata": {
            "needs_background": "light"
          }
        }
      ]
    },
    {
      "cell_type": "markdown",
      "metadata": {
        "id": "4Yn2EEkZY_1r"
      },
      "source": [
        "Bem melhor não é? Percebeu como os objetos (*Figure*, *Axes*, etc) são utilizados na montagem do gráfico? E como os atritutos (*figsize*) e métodos (*tight_layout()*, *set_title()*, *set_xlim()*, etc) destes objetos são utilizados para alterar a estética do grafico?\n",
        "\n",
        "Os recursos do Matplotlib são vastos, mas o conceito de hierarquia de elementos das figuras e a interação destes elementos farão você chegar à qualquer lugar na hora de montar seu gráfico."
      ]
    },
    {
      "cell_type": "markdown",
      "metadata": {
        "id": "xiPquc_nY_1r"
      },
      "source": [
        "### Plotando seus gráficos\n",
        "\n",
        "Vamos voltar ao conjunto de dados do UFC que carregamos mais cedo. Afinal, o Matplotlib é somente uma tela em branco quando você não tem o que desenhar.\n",
        "\n",
        "A variável *fights_by_year* armazena a quantidade de lutas por ano do evento. Apesar deste notebook não pretender ensinar Pandas, é altamente recomendável que você não tenha dúvida sobre o que foi feito na célula abaixo."
      ]
    },
    {
      "cell_type": "code",
      "metadata": {
        "id": "m5tZYxmcY_1s",
        "outputId": "e4759c6e-73db-4c22-8c0c-caa7cdbec4f9",
        "colab": {
          "base_uri": "https://localhost:8080/",
          "height": 928
        }
      },
      "source": [
        "# Transformando a coluna date em objeto datetime e agrupando as lutas por ano.\n",
        "df['date'] = pd.to_datetime(df['date'])\n",
        "fights_by_year = df.groupby(df['date'].dt.year).agg({\"R_fighter\":\"count\"})\n",
        "\n",
        "fights_by_year"
      ],
      "execution_count": null,
      "outputs": [
        {
          "output_type": "execute_result",
          "data": {
            "text/plain": [
              "      R_fighter\n",
              "date           \n",
              "1993          8\n",
              "1994         29\n",
              "1995         33\n",
              "1996         36\n",
              "1997         39\n",
              "1998         20\n",
              "1999         43\n",
              "2000         41\n",
              "2001         40\n",
              "2002         53\n",
              "2003         41\n",
              "2004         39\n",
              "2005         80\n",
              "2006        158\n",
              "2007        171\n",
              "2008        201\n",
              "2009        215\n",
              "2010        253\n",
              "2011        300\n",
              "2012        341\n",
              "2013        386\n",
              "2014        503\n",
              "2015        473\n",
              "2016        493\n",
              "2017        451\n",
              "2018        474\n",
              "2019        223"
            ],
            "text/html": [
              "\n",
              "  <div id=\"df-ced0cd1c-8d09-4a1f-b976-5cd19d3cb7f2\">\n",
              "    <div class=\"colab-df-container\">\n",
              "      <div>\n",
              "<style scoped>\n",
              "    .dataframe tbody tr th:only-of-type {\n",
              "        vertical-align: middle;\n",
              "    }\n",
              "\n",
              "    .dataframe tbody tr th {\n",
              "        vertical-align: top;\n",
              "    }\n",
              "\n",
              "    .dataframe thead th {\n",
              "        text-align: right;\n",
              "    }\n",
              "</style>\n",
              "<table border=\"1\" class=\"dataframe\">\n",
              "  <thead>\n",
              "    <tr style=\"text-align: right;\">\n",
              "      <th></th>\n",
              "      <th>R_fighter</th>\n",
              "    </tr>\n",
              "    <tr>\n",
              "      <th>date</th>\n",
              "      <th></th>\n",
              "    </tr>\n",
              "  </thead>\n",
              "  <tbody>\n",
              "    <tr>\n",
              "      <th>1993</th>\n",
              "      <td>8</td>\n",
              "    </tr>\n",
              "    <tr>\n",
              "      <th>1994</th>\n",
              "      <td>29</td>\n",
              "    </tr>\n",
              "    <tr>\n",
              "      <th>1995</th>\n",
              "      <td>33</td>\n",
              "    </tr>\n",
              "    <tr>\n",
              "      <th>1996</th>\n",
              "      <td>36</td>\n",
              "    </tr>\n",
              "    <tr>\n",
              "      <th>1997</th>\n",
              "      <td>39</td>\n",
              "    </tr>\n",
              "    <tr>\n",
              "      <th>1998</th>\n",
              "      <td>20</td>\n",
              "    </tr>\n",
              "    <tr>\n",
              "      <th>1999</th>\n",
              "      <td>43</td>\n",
              "    </tr>\n",
              "    <tr>\n",
              "      <th>2000</th>\n",
              "      <td>41</td>\n",
              "    </tr>\n",
              "    <tr>\n",
              "      <th>2001</th>\n",
              "      <td>40</td>\n",
              "    </tr>\n",
              "    <tr>\n",
              "      <th>2002</th>\n",
              "      <td>53</td>\n",
              "    </tr>\n",
              "    <tr>\n",
              "      <th>2003</th>\n",
              "      <td>41</td>\n",
              "    </tr>\n",
              "    <tr>\n",
              "      <th>2004</th>\n",
              "      <td>39</td>\n",
              "    </tr>\n",
              "    <tr>\n",
              "      <th>2005</th>\n",
              "      <td>80</td>\n",
              "    </tr>\n",
              "    <tr>\n",
              "      <th>2006</th>\n",
              "      <td>158</td>\n",
              "    </tr>\n",
              "    <tr>\n",
              "      <th>2007</th>\n",
              "      <td>171</td>\n",
              "    </tr>\n",
              "    <tr>\n",
              "      <th>2008</th>\n",
              "      <td>201</td>\n",
              "    </tr>\n",
              "    <tr>\n",
              "      <th>2009</th>\n",
              "      <td>215</td>\n",
              "    </tr>\n",
              "    <tr>\n",
              "      <th>2010</th>\n",
              "      <td>253</td>\n",
              "    </tr>\n",
              "    <tr>\n",
              "      <th>2011</th>\n",
              "      <td>300</td>\n",
              "    </tr>\n",
              "    <tr>\n",
              "      <th>2012</th>\n",
              "      <td>341</td>\n",
              "    </tr>\n",
              "    <tr>\n",
              "      <th>2013</th>\n",
              "      <td>386</td>\n",
              "    </tr>\n",
              "    <tr>\n",
              "      <th>2014</th>\n",
              "      <td>503</td>\n",
              "    </tr>\n",
              "    <tr>\n",
              "      <th>2015</th>\n",
              "      <td>473</td>\n",
              "    </tr>\n",
              "    <tr>\n",
              "      <th>2016</th>\n",
              "      <td>493</td>\n",
              "    </tr>\n",
              "    <tr>\n",
              "      <th>2017</th>\n",
              "      <td>451</td>\n",
              "    </tr>\n",
              "    <tr>\n",
              "      <th>2018</th>\n",
              "      <td>474</td>\n",
              "    </tr>\n",
              "    <tr>\n",
              "      <th>2019</th>\n",
              "      <td>223</td>\n",
              "    </tr>\n",
              "  </tbody>\n",
              "</table>\n",
              "</div>\n",
              "      <button class=\"colab-df-convert\" onclick=\"convertToInteractive('df-ced0cd1c-8d09-4a1f-b976-5cd19d3cb7f2')\"\n",
              "              title=\"Convert this dataframe to an interactive table.\"\n",
              "              style=\"display:none;\">\n",
              "        \n",
              "  <svg xmlns=\"http://www.w3.org/2000/svg\" height=\"24px\"viewBox=\"0 0 24 24\"\n",
              "       width=\"24px\">\n",
              "    <path d=\"M0 0h24v24H0V0z\" fill=\"none\"/>\n",
              "    <path d=\"M18.56 5.44l.94 2.06.94-2.06 2.06-.94-2.06-.94-.94-2.06-.94 2.06-2.06.94zm-11 1L8.5 8.5l.94-2.06 2.06-.94-2.06-.94L8.5 2.5l-.94 2.06-2.06.94zm10 10l.94 2.06.94-2.06 2.06-.94-2.06-.94-.94-2.06-.94 2.06-2.06.94z\"/><path d=\"M17.41 7.96l-1.37-1.37c-.4-.4-.92-.59-1.43-.59-.52 0-1.04.2-1.43.59L10.3 9.45l-7.72 7.72c-.78.78-.78 2.05 0 2.83L4 21.41c.39.39.9.59 1.41.59.51 0 1.02-.2 1.41-.59l7.78-7.78 2.81-2.81c.8-.78.8-2.07 0-2.86zM5.41 20L4 18.59l7.72-7.72 1.47 1.35L5.41 20z\"/>\n",
              "  </svg>\n",
              "      </button>\n",
              "      \n",
              "  <style>\n",
              "    .colab-df-container {\n",
              "      display:flex;\n",
              "      flex-wrap:wrap;\n",
              "      gap: 12px;\n",
              "    }\n",
              "\n",
              "    .colab-df-convert {\n",
              "      background-color: #E8F0FE;\n",
              "      border: none;\n",
              "      border-radius: 50%;\n",
              "      cursor: pointer;\n",
              "      display: none;\n",
              "      fill: #1967D2;\n",
              "      height: 32px;\n",
              "      padding: 0 0 0 0;\n",
              "      width: 32px;\n",
              "    }\n",
              "\n",
              "    .colab-df-convert:hover {\n",
              "      background-color: #E2EBFA;\n",
              "      box-shadow: 0px 1px 2px rgba(60, 64, 67, 0.3), 0px 1px 3px 1px rgba(60, 64, 67, 0.15);\n",
              "      fill: #174EA6;\n",
              "    }\n",
              "\n",
              "    [theme=dark] .colab-df-convert {\n",
              "      background-color: #3B4455;\n",
              "      fill: #D2E3FC;\n",
              "    }\n",
              "\n",
              "    [theme=dark] .colab-df-convert:hover {\n",
              "      background-color: #434B5C;\n",
              "      box-shadow: 0px 1px 3px 1px rgba(0, 0, 0, 0.15);\n",
              "      filter: drop-shadow(0px 1px 2px rgba(0, 0, 0, 0.3));\n",
              "      fill: #FFFFFF;\n",
              "    }\n",
              "  </style>\n",
              "\n",
              "      <script>\n",
              "        const buttonEl =\n",
              "          document.querySelector('#df-ced0cd1c-8d09-4a1f-b976-5cd19d3cb7f2 button.colab-df-convert');\n",
              "        buttonEl.style.display =\n",
              "          google.colab.kernel.accessAllowed ? 'block' : 'none';\n",
              "\n",
              "        async function convertToInteractive(key) {\n",
              "          const element = document.querySelector('#df-ced0cd1c-8d09-4a1f-b976-5cd19d3cb7f2');\n",
              "          const dataTable =\n",
              "            await google.colab.kernel.invokeFunction('convertToInteractive',\n",
              "                                                     [key], {});\n",
              "          if (!dataTable) return;\n",
              "\n",
              "          const docLinkHtml = 'Like what you see? Visit the ' +\n",
              "            '<a target=\"_blank\" href=https://colab.research.google.com/notebooks/data_table.ipynb>data table notebook</a>'\n",
              "            + ' to learn more about interactive tables.';\n",
              "          element.innerHTML = '';\n",
              "          dataTable['output_type'] = 'display_data';\n",
              "          await google.colab.output.renderOutput(dataTable, element);\n",
              "          const docLink = document.createElement('div');\n",
              "          docLink.innerHTML = docLinkHtml;\n",
              "          element.appendChild(docLink);\n",
              "        }\n",
              "      </script>\n",
              "    </div>\n",
              "  </div>\n",
              "  "
            ]
          },
          "metadata": {},
          "execution_count": 19
        }
      ]
    },
    {
      "cell_type": "markdown",
      "metadata": {
        "id": "GxQ30gcQY_1s"
      },
      "source": [
        "### TAREFA 07\n",
        "1. Plote a evolução das quantidades de lutas por ano no UFC.\n",
        "2. Use um gráfico de linha.\n",
        "3. Configure título e nome dos eixos x e y."
      ]
    },
    {
      "cell_type": "code",
      "metadata": {
        "id": "RWOQoBgEY_1t",
        "outputId": "4c521468-3de3-4ca7-87a1-273209c06883",
        "colab": {
          "base_uri": "https://localhost:8080/",
          "height": 350
        }
      },
      "source": [
        "fig = plt.figure(figsize=(10,5))\n",
        "plt.plot(fights_by_year.index, fights_by_year[\"R_fighter\"])\n",
        "plt.xlabel(\"Ano\")\n",
        "plt.ylabel(\"# lutas\")\n",
        "plt.title(\"Lutas por ano\")\n",
        "\n",
        "plt.show()"
      ],
      "execution_count": null,
      "outputs": [
        {
          "output_type": "display_data",
          "data": {
            "text/plain": [
              "<Figure size 720x360 with 1 Axes>"
            ],
            "image/png": "[encoded data removed]"
          },
          "metadata": {
            "needs_background": "light"
          }
        }
      ]
    },
    {
      "cell_type": "markdown",
      "metadata": {
        "id": "3Zr-TBCQY_1u"
      },
      "source": [
        "### Matplotlib e pandas\n",
        "A biblioteca Pandas possui integração com o Matplotlib, permitindo que sejam criados gráficos diretamente dos dataframes do Pandas. Se você quiser plotar as informações de forma mais rápida, basta utilizar o método *plot()* do próprio dataframe.\n",
        "\n",
        "Separamos as 10 classes de peso mais relevantes - maior quantidade de lutas - do UFC ao longo dos anos."
      ]
    },
    {
      "cell_type": "code",
      "metadata": {
        "id": "sOAZRpVbY_1v"
      },
      "source": [
        "fights_by_class = df['weight_class'].value_counts()[:10] #dez primeiros"
      ],
      "execution_count": null,
      "outputs": []
    },
    {
      "cell_type": "markdown",
      "metadata": {
        "id": "sWgyN3b7Y_1v"
      },
      "source": [
        "### TAREFA 08\n",
        "1. Plote a quantidade de lutas das 10 classes de peso mais relevantes do UFC.\n",
        "2. Use um gráfico de barra diretamente do dataframe.\n",
        "3. Armazene seu plot em um objeto *Axe*.\n",
        "4. Configure título e nome dos eixos x e y."
      ]
    },
    {
      "cell_type": "code",
      "metadata": {
        "id": "G48r4l9tY_1w",
        "outputId": "a80ae980-76b0-421a-9a42-00b856aaf0eb",
        "colab": {
          "base_uri": "https://localhost:8080/",
          "height": 450
        }
      },
      "source": [
        "figure = plt.figure(figsize=(15,5))\n",
        "axe = figure.add_subplot(1,2,1)\n",
        "plt.xlabel(\"Classe de Peso\")\n",
        "plt.ylabel(\"Qtd. de Lutas\")\n",
        "plt.title(\"Quantidade de lutas por Classe de Peso\")\n",
        "fights_by_class.plot(kind=\"bar\", ax =axe)\n",
        "plt.xticks(rotation=60)\n",
        "\n",
        "\n",
        "plt.show()"
      ],
      "execution_count": null,
      "outputs": [
        {
          "output_type": "display_data",
          "data": {
            "text/plain": [
              "<Figure size 1080x360 with 1 Axes>"
            ],
            "image/png": "[encoded data removed]"
          },
          "metadata": {
            "needs_background": "light"
          }
        }
      ]
    },
    {
      "cell_type": "markdown",
      "metadata": {
        "id": "Mz7S1aTpY_1z"
      },
      "source": [
        "## Conclusão\n",
        "Matplotlib é, provavelmente, o pacote Python mais utilizado para gráficos 2D. Ele fornece uma maneira muito rápida de visualizar os dados de Python e figuras de qualidade de publicação em vários formatos. Em conjunto com outras ferramentas, como Pandas e Seaborn (este é um complemento ao Matplotlib), os cientistas de dados tem um grande aliado."
      ]
    },
    {
      "cell_type": "markdown",
      "metadata": {
        "id": "1kOXhnpgY_10"
      },
      "source": [
        "### Awari -  <a href=\"https://awari.com.br/\"> awari.com.br</a>"
      ]
    }
  ]
}